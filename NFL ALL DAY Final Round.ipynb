{
 "cells": [
  {
   "cell_type": "markdown",
   "id": "11e9fb58",
   "metadata": {},
   "source": [
    "## NFL ALL DAY Tournament: FINAL ROUND"
   ]
  },
  {
   "cell_type": "markdown",
   "id": "1c926d30",
   "metadata": {},
   "source": [
    "#### Rusell Wilson low price prediction"
   ]
  },
  {
   "cell_type": "markdown",
   "id": "6547d471",
   "metadata": {},
   "source": [
    "In this round, you once again have full discretion over what you want to analyze. There's just one requirement: you must use some sort of predictive modeling to analyze any particular aspect of NFL All Day.\n",
    "\n",
    "\n",
    "\n",
    "I.e. Could you build a model that predicts floor price after a certain designated period for a particular player? Once again, anything is fair game; we’d like to see what you come up with given the requirement of using ML."
   ]
  },
  {
   "cell_type": "markdown",
   "id": "fd082047",
   "metadata": {},
   "source": [
    "Let’s start by importing some libraries which will be used for various purposes which will be explained later in this article. As well as the ShroomDK to be able to export NFL All Day data from Flispide database."
   ]
  },
  {
   "cell_type": "code",
   "execution_count": 5,
   "id": "10ea35f5",
   "metadata": {},
   "outputs": [],
   "source": [
    "from shroomdk import ShroomDK\n",
    "import pandas as pd\n",
    "import seaborn as sns\n",
    "import matplotlib.pyplot as plt\n",
    "import matplotlib.dates as md\n",
    "import matplotlib.ticker as ticker\n",
    "import numpy as np\n",
    "sdk = ShroomDK(\"679043b4-298f-4b7f-9394-54d64db46007\")"
   ]
  },
  {
   "cell_type": "markdown",
   "id": "f2a399f1",
   "metadata": {},
   "source": [
    "Now, we can write the code to extract the most important variable to develop our ML model."
   ]
  },
  {
   "cell_type": "code",
   "execution_count": 53,
   "id": "cba017ec",
   "metadata": {},
   "outputs": [],
   "source": [
    "sql = f\"\"\"SELECT\n",
    "block_timestamp::date as date,\n",
    "  play_type,\n",
    "  moment_description,\n",
    "  team,\n",
    "  total_circulation,\n",
    "count(distinct buyer) as n_buyers,\n",
    "count(distinct seller) as n_sellers,\n",
    "count(distinct x.nft_id) as n_nfts,\n",
    "sum(price) as volume,\n",
    "avg(price) as avg_price,\n",
    "min(price) as min_price,\n",
    "max(price) as max_price\n",
    "from \n",
    "  flow.core.ez_nft_sales x\n",
    "  left join flow.core.dim_allday_metadata y on x.nft_id = y.nft_id \n",
    "where player='Russell Wilson' and block_timestamp>='2021-01-01'\n",
    "group by 1,2,3,4,5 order by 1 asc \n",
    "\"\"\""
   ]
  },
  {
   "cell_type": "code",
   "execution_count": 54,
   "id": "39c52f1d",
   "metadata": {},
   "outputs": [
    {
     "name": "stdout",
     "output_type": "stream",
     "text": [
      "<class 'pandas.core.frame.DataFrame'>\n",
      "RangeIndex: 1232 entries, 0 to 1231\n",
      "Data columns (total 12 columns):\n",
      " #   Column              Non-Null Count  Dtype  \n",
      "---  ------              --------------  -----  \n",
      " 0   date                1232 non-null   object \n",
      " 1   play_type           1232 non-null   object \n",
      " 2   moment_description  1232 non-null   object \n",
      " 3   team                1232 non-null   object \n",
      " 4   total_circulation   1232 non-null   int64  \n",
      " 5   n_buyers            1232 non-null   int64  \n",
      " 6   n_sellers           1232 non-null   int64  \n",
      " 7   n_nfts              1232 non-null   int64  \n",
      " 8   volume              1232 non-null   float64\n",
      " 9   avg_price           1232 non-null   float64\n",
      " 10  min_price           1232 non-null   float64\n",
      " 11  max_price           1232 non-null   float64\n",
      "dtypes: float64(4), int64(4), object(4)\n",
      "memory usage: 115.6+ KB\n"
     ]
    }
   ],
   "source": [
    "results = sdk.query(sql)\n",
    "df = pd.DataFrame(results.records)\n",
    "df.info()"
   ]
  },
  {
   "cell_type": "code",
   "execution_count": 55,
   "id": "64341ddf",
   "metadata": {},
   "outputs": [
    {
     "data": {
      "text/html": [
       "<div>\n",
       "<style scoped>\n",
       "    .dataframe tbody tr th:only-of-type {\n",
       "        vertical-align: middle;\n",
       "    }\n",
       "\n",
       "    .dataframe tbody tr th {\n",
       "        vertical-align: top;\n",
       "    }\n",
       "\n",
       "    .dataframe thead th {\n",
       "        text-align: right;\n",
       "    }\n",
       "</style>\n",
       "<table border=\"1\" class=\"dataframe\">\n",
       "  <thead>\n",
       "    <tr style=\"text-align: right;\">\n",
       "      <th></th>\n",
       "      <th>date</th>\n",
       "      <th>play_type</th>\n",
       "      <th>moment_description</th>\n",
       "      <th>team</th>\n",
       "      <th>total_circulation</th>\n",
       "      <th>n_buyers</th>\n",
       "      <th>n_sellers</th>\n",
       "      <th>n_nfts</th>\n",
       "      <th>volume</th>\n",
       "      <th>avg_price</th>\n",
       "      <th>min_price</th>\n",
       "      <th>max_price</th>\n",
       "    </tr>\n",
       "  </thead>\n",
       "  <tbody>\n",
       "    <tr>\n",
       "      <th>0</th>\n",
       "      <td>2021-01-01</td>\n",
       "      <td>Pass</td>\n",
       "      <td>When Russell Wilson throws it up in a tight wi...</td>\n",
       "      <td>Seattle Seahawks</td>\n",
       "      <td>10000</td>\n",
       "      <td>3</td>\n",
       "      <td>2</td>\n",
       "      <td>3</td>\n",
       "      <td>22.0</td>\n",
       "      <td>7.333333</td>\n",
       "      <td>5.0</td>\n",
       "      <td>11.0</td>\n",
       "    </tr>\n",
       "    <tr>\n",
       "      <th>1</th>\n",
       "      <td>2021-01-02</td>\n",
       "      <td>Pass</td>\n",
       "      <td>When Russell Wilson throws it up in a tight wi...</td>\n",
       "      <td>Seattle Seahawks</td>\n",
       "      <td>10000</td>\n",
       "      <td>6</td>\n",
       "      <td>7</td>\n",
       "      <td>11</td>\n",
       "      <td>101.0</td>\n",
       "      <td>9.181818</td>\n",
       "      <td>1.0</td>\n",
       "      <td>29.0</td>\n",
       "    </tr>\n",
       "    <tr>\n",
       "      <th>2</th>\n",
       "      <td>2021-01-03</td>\n",
       "      <td>Pass</td>\n",
       "      <td>When Russell Wilson throws it up in a tight wi...</td>\n",
       "      <td>Seattle Seahawks</td>\n",
       "      <td>10000</td>\n",
       "      <td>4</td>\n",
       "      <td>7</td>\n",
       "      <td>7</td>\n",
       "      <td>46.0</td>\n",
       "      <td>6.571429</td>\n",
       "      <td>1.0</td>\n",
       "      <td>14.0</td>\n",
       "    </tr>\n",
       "    <tr>\n",
       "      <th>3</th>\n",
       "      <td>2021-01-04</td>\n",
       "      <td>Pass</td>\n",
       "      <td>When Russell Wilson throws it up in a tight wi...</td>\n",
       "      <td>Seattle Seahawks</td>\n",
       "      <td>10000</td>\n",
       "      <td>9</td>\n",
       "      <td>10</td>\n",
       "      <td>12</td>\n",
       "      <td>107.0</td>\n",
       "      <td>8.916667</td>\n",
       "      <td>1.0</td>\n",
       "      <td>23.0</td>\n",
       "    </tr>\n",
       "    <tr>\n",
       "      <th>4</th>\n",
       "      <td>2021-01-05</td>\n",
       "      <td>Pass</td>\n",
       "      <td>When Russell Wilson throws it up in a tight wi...</td>\n",
       "      <td>Seattle Seahawks</td>\n",
       "      <td>10000</td>\n",
       "      <td>10</td>\n",
       "      <td>10</td>\n",
       "      <td>10</td>\n",
       "      <td>147.0</td>\n",
       "      <td>14.700000</td>\n",
       "      <td>1.0</td>\n",
       "      <td>44.0</td>\n",
       "    </tr>\n",
       "  </tbody>\n",
       "</table>\n",
       "</div>"
      ],
      "text/plain": [
       "         date play_type                                 moment_description  \\\n",
       "0  2021-01-01      Pass  When Russell Wilson throws it up in a tight wi...   \n",
       "1  2021-01-02      Pass  When Russell Wilson throws it up in a tight wi...   \n",
       "2  2021-01-03      Pass  When Russell Wilson throws it up in a tight wi...   \n",
       "3  2021-01-04      Pass  When Russell Wilson throws it up in a tight wi...   \n",
       "4  2021-01-05      Pass  When Russell Wilson throws it up in a tight wi...   \n",
       "\n",
       "               team  total_circulation  n_buyers  n_sellers  n_nfts  volume  \\\n",
       "0  Seattle Seahawks              10000         3          2       3    22.0   \n",
       "1  Seattle Seahawks              10000         6          7      11   101.0   \n",
       "2  Seattle Seahawks              10000         4          7       7    46.0   \n",
       "3  Seattle Seahawks              10000         9         10      12   107.0   \n",
       "4  Seattle Seahawks              10000        10         10      10   147.0   \n",
       "\n",
       "   avg_price  min_price  max_price  \n",
       "0   7.333333        5.0       11.0  \n",
       "1   9.181818        1.0       29.0  \n",
       "2   6.571429        1.0       14.0  \n",
       "3   8.916667        1.0       23.0  \n",
       "4  14.700000        1.0       44.0  "
      ]
     },
     "execution_count": 55,
     "metadata": {},
     "output_type": "execute_result"
    }
   ],
   "source": [
    "df.head()"
   ]
  },
  {
   "cell_type": "markdown",
   "id": "4f2f735e",
   "metadata": {},
   "source": [
    "We will be important other interesting and useful libraries to carry out the model.\n",
    "\n",
    "Exploratory Data Analysis (EDA) is an approach to analyzing the data using visual techniques. It is used to discover trends, and patterns, or to check assumptions with the help of statistical summaries and graphical representations. \n",
    "\n",
    "While performing the EDA of the Russel Wilson Price data we will analyze how prices of their NFTs have moved over the period of time and how the end of the quarters affects the prices of it."
   ]
  },
  {
   "cell_type": "code",
   "execution_count": 56,
   "id": "ceabede9",
   "metadata": {},
   "outputs": [],
   "source": [
    "import numpy as np\n",
    "import pandas as pd\n",
    "import matplotlib.pyplot as plt\n",
    "import seaborn as sb\n",
    "\n",
    "from sklearn.model_selection import train_test_split\n",
    "from sklearn.preprocessing import StandardScaler\n",
    "from sklearn.linear_model import LogisticRegression\n",
    "from sklearn.svm import SVC\n",
    "from xgboost import XGBClassifier\n",
    "from sklearn import metrics\n",
    "\n",
    "import warnings\n",
    "warnings.filterwarnings('ignore')\n"
   ]
  },
  {
   "cell_type": "code",
   "execution_count": 57,
   "id": "d89243c4",
   "metadata": {},
   "outputs": [
    {
     "data": {
      "image/png": "[encoded data removed]",
      "text/plain": [
       "<Figure size 1080x360 with 1 Axes>"
      ]
     },
     "metadata": {
      "needs_background": "light"
     },
     "output_type": "display_data"
    }
   ],
   "source": [
    "plt.figure(figsize=(15,5))\n",
    "plt.plot(df['min_price'])\n",
    "plt.title('Russell Wilson low price', fontsize=15)\n",
    "plt.ylabel('Price in USD Dapper Labs')\n",
    "plt.xlabel('Days')\n",
    "plt.show()\n"
   ]
  },
  {
   "cell_type": "markdown",
   "id": "8a811d97",
   "metadata": {},
   "source": [
    "As we can see in the first image above, we can see how the NFT price was stable during the first days, however, since some weeks ago, it started to oscilate reaching levels over 3k USD."
   ]
  },
  {
   "cell_type": "code",
   "execution_count": 58,
   "id": "a1ee4360",
   "metadata": {},
   "outputs": [
    {
     "data": {
      "image/png": "[encoded data removed]",
      "text/plain": [
       "<Figure size 1440x720 with 1 Axes>"
      ]
     },
     "metadata": {
      "needs_background": "light"
     },
     "output_type": "display_data"
    },
    {
     "data": {
      "image/png": "[encoded data removed]",
      "text/plain": [
       "<Figure size 432x288 with 1 Axes>"
      ]
     },
     "metadata": {
      "needs_background": "light"
     },
     "output_type": "display_data"
    },
    {
     "data": {
      "image/png": "[encoded data removed]",
      "text/plain": [
       "<Figure size 432x288 with 1 Axes>"
      ]
     },
     "metadata": {
      "needs_background": "light"
     },
     "output_type": "display_data"
    },
    {
     "data": {
      "image/png": "[encoded data removed]",
      "text/plain": [
       "<Figure size 432x288 with 1 Axes>"
      ]
     },
     "metadata": {
      "needs_background": "light"
     },
     "output_type": "display_data"
    },
    {
     "data": {
      "image/png": "[encoded data removed]",
      "text/plain": [
       "<Figure size 432x288 with 1 Axes>"
      ]
     },
     "metadata": {
      "needs_background": "light"
     },
     "output_type": "display_data"
    },
    {
     "data": {
      "image/png": "[encoded data removed]",
      "text/plain": [
       "<Figure size 432x288 with 1 Axes>"
      ]
     },
     "metadata": {
      "needs_background": "light"
     },
     "output_type": "display_data"
    },
    {
     "data": {
      "image/png": "[encoded data removed]",
      "text/plain": [
       "<Figure size 432x288 with 1 Axes>"
      ]
     },
     "metadata": {
      "needs_background": "light"
     },
     "output_type": "display_data"
    }
   ],
   "source": [
    "features = ['n_buyers', 'n_sellers', 'n_nfts', 'volume', 'avg_price','min_price','max_price']\n",
    "\n",
    "plt.subplots(figsize=(20,10))\n",
    "\n",
    "for i, col in enumerate(features):\n",
    "    sb.distplot(df[col])\n",
    "    plt.show()\n"
   ]
  },
  {
   "cell_type": "markdown",
   "id": "4f7476c9",
   "metadata": {},
   "source": [
    "In these other charts we can see the distribution of daily values among each calculated metrics. \n",
    "\n",
    "We have to highloght the poor distribution of number of buyers, and the number of different NFTs sold.The volume and number of sellers are a little bit more heterogeneous. The average, minimum and maximum prices vary a little bit more and have more normal distributions."
   ]
  },
  {
   "cell_type": "code",
   "execution_count": 59,
   "id": "6b4fbda8",
   "metadata": {},
   "outputs": [
    {
     "data": {
      "image/png": "[encoded data removed]",
      "text/plain": [
       "<Figure size 1440x720 with 1 Axes>"
      ]
     },
     "metadata": {
      "needs_background": "light"
     },
     "output_type": "display_data"
    },
    {
     "data": {
      "image/png": "[encoded data removed]",
      "text/plain": [
       "<Figure size 432x288 with 1 Axes>"
      ]
     },
     "metadata": {
      "needs_background": "light"
     },
     "output_type": "display_data"
    },
    {
     "data": {
      "image/png": "[encoded data removed]",
      "text/plain": [
       "<Figure size 432x288 with 1 Axes>"
      ]
     },
     "metadata": {
      "needs_background": "light"
     },
     "output_type": "display_data"
    },
    {
     "data": {
      "image/png": "[encoded data removed]",
      "text/plain": [
       "<Figure size 432x288 with 1 Axes>"
      ]
     },
     "metadata": {
      "needs_background": "light"
     },
     "output_type": "display_data"
    },
    {
     "data": {
      "image/png": "[encoded data removed]",
      "text/plain": [
       "<Figure size 432x288 with 1 Axes>"
      ]
     },
     "metadata": {
      "needs_background": "light"
     },
     "output_type": "display_data"
    },
    {
     "data": {
      "image/png": "[encoded data removed]",
      "text/plain": [
       "<Figure size 432x288 with 1 Axes>"
      ]
     },
     "metadata": {
      "needs_background": "light"
     },
     "output_type": "display_data"
    },
    {
     "data": {
      "image/png": "[encoded data removed]",
      "text/plain": [
       "<Figure size 432x288 with 1 Axes>"
      ]
     },
     "metadata": {
      "needs_background": "light"
     },
     "output_type": "display_data"
    }
   ],
   "source": [
    "plt.subplots(figsize=(20,10))\n",
    "for i, col in enumerate(features):\n",
    "    sb.boxplot(df[col])\n",
    "    plt.show()\n"
   ]
  },
  {
   "cell_type": "markdown",
   "id": "5fcbbddf",
   "metadata": {},
   "source": [
    "In all of the cases, it can be seen how there are some outliers. Thus, from the above boxplots, we can conclude that the major of the metrics data contains outliers."
   ]
  },
  {
   "cell_type": "code",
   "execution_count": 65,
   "id": "4d4724b7",
   "metadata": {},
   "outputs": [
    {
     "data": {
      "text/html": [
       "<div>\n",
       "<style scoped>\n",
       "    .dataframe tbody tr th:only-of-type {\n",
       "        vertical-align: middle;\n",
       "    }\n",
       "\n",
       "    .dataframe tbody tr th {\n",
       "        vertical-align: top;\n",
       "    }\n",
       "\n",
       "    .dataframe thead th {\n",
       "        text-align: right;\n",
       "    }\n",
       "</style>\n",
       "<table border=\"1\" class=\"dataframe\">\n",
       "  <thead>\n",
       "    <tr style=\"text-align: right;\">\n",
       "      <th></th>\n",
       "      <th>date</th>\n",
       "      <th>play_type</th>\n",
       "      <th>moment_description</th>\n",
       "      <th>team</th>\n",
       "      <th>total_circulation</th>\n",
       "      <th>n_buyers</th>\n",
       "      <th>n_sellers</th>\n",
       "      <th>n_nfts</th>\n",
       "      <th>volume</th>\n",
       "      <th>avg_price</th>\n",
       "      <th>min_price</th>\n",
       "      <th>max_price</th>\n",
       "      <th>day</th>\n",
       "      <th>month</th>\n",
       "      <th>year</th>\n",
       "      <th>is_quarter_end</th>\n",
       "    </tr>\n",
       "  </thead>\n",
       "  <tbody>\n",
       "    <tr>\n",
       "      <th>0</th>\n",
       "      <td>2021-01-01</td>\n",
       "      <td>Pass</td>\n",
       "      <td>When Russell Wilson throws it up in a tight wi...</td>\n",
       "      <td>Seattle Seahawks</td>\n",
       "      <td>10000</td>\n",
       "      <td>3</td>\n",
       "      <td>2</td>\n",
       "      <td>3</td>\n",
       "      <td>22.0</td>\n",
       "      <td>7.333333</td>\n",
       "      <td>5.0</td>\n",
       "      <td>11.0</td>\n",
       "      <td>1</td>\n",
       "      <td>1</td>\n",
       "      <td>2021</td>\n",
       "      <td>0</td>\n",
       "    </tr>\n",
       "    <tr>\n",
       "      <th>1</th>\n",
       "      <td>2021-01-02</td>\n",
       "      <td>Pass</td>\n",
       "      <td>When Russell Wilson throws it up in a tight wi...</td>\n",
       "      <td>Seattle Seahawks</td>\n",
       "      <td>10000</td>\n",
       "      <td>6</td>\n",
       "      <td>7</td>\n",
       "      <td>11</td>\n",
       "      <td>101.0</td>\n",
       "      <td>9.181818</td>\n",
       "      <td>1.0</td>\n",
       "      <td>29.0</td>\n",
       "      <td>2</td>\n",
       "      <td>1</td>\n",
       "      <td>2021</td>\n",
       "      <td>0</td>\n",
       "    </tr>\n",
       "    <tr>\n",
       "      <th>2</th>\n",
       "      <td>2021-01-03</td>\n",
       "      <td>Pass</td>\n",
       "      <td>When Russell Wilson throws it up in a tight wi...</td>\n",
       "      <td>Seattle Seahawks</td>\n",
       "      <td>10000</td>\n",
       "      <td>4</td>\n",
       "      <td>7</td>\n",
       "      <td>7</td>\n",
       "      <td>46.0</td>\n",
       "      <td>6.571429</td>\n",
       "      <td>1.0</td>\n",
       "      <td>14.0</td>\n",
       "      <td>3</td>\n",
       "      <td>1</td>\n",
       "      <td>2021</td>\n",
       "      <td>0</td>\n",
       "    </tr>\n",
       "    <tr>\n",
       "      <th>3</th>\n",
       "      <td>2021-01-04</td>\n",
       "      <td>Pass</td>\n",
       "      <td>When Russell Wilson throws it up in a tight wi...</td>\n",
       "      <td>Seattle Seahawks</td>\n",
       "      <td>10000</td>\n",
       "      <td>9</td>\n",
       "      <td>10</td>\n",
       "      <td>12</td>\n",
       "      <td>107.0</td>\n",
       "      <td>8.916667</td>\n",
       "      <td>1.0</td>\n",
       "      <td>23.0</td>\n",
       "      <td>4</td>\n",
       "      <td>1</td>\n",
       "      <td>2021</td>\n",
       "      <td>0</td>\n",
       "    </tr>\n",
       "    <tr>\n",
       "      <th>4</th>\n",
       "      <td>2021-01-05</td>\n",
       "      <td>Pass</td>\n",
       "      <td>When Russell Wilson throws it up in a tight wi...</td>\n",
       "      <td>Seattle Seahawks</td>\n",
       "      <td>10000</td>\n",
       "      <td>10</td>\n",
       "      <td>10</td>\n",
       "      <td>10</td>\n",
       "      <td>147.0</td>\n",
       "      <td>14.700000</td>\n",
       "      <td>1.0</td>\n",
       "      <td>44.0</td>\n",
       "      <td>5</td>\n",
       "      <td>1</td>\n",
       "      <td>2021</td>\n",
       "      <td>0</td>\n",
       "    </tr>\n",
       "  </tbody>\n",
       "</table>\n",
       "</div>"
      ],
      "text/plain": [
       "         date play_type                                 moment_description  \\\n",
       "0  2021-01-01      Pass  When Russell Wilson throws it up in a tight wi...   \n",
       "1  2021-01-02      Pass  When Russell Wilson throws it up in a tight wi...   \n",
       "2  2021-01-03      Pass  When Russell Wilson throws it up in a tight wi...   \n",
       "3  2021-01-04      Pass  When Russell Wilson throws it up in a tight wi...   \n",
       "4  2021-01-05      Pass  When Russell Wilson throws it up in a tight wi...   \n",
       "\n",
       "               team  total_circulation  n_buyers  n_sellers  n_nfts  volume  \\\n",
       "0  Seattle Seahawks              10000         3          2       3    22.0   \n",
       "1  Seattle Seahawks              10000         6          7      11   101.0   \n",
       "2  Seattle Seahawks              10000         4          7       7    46.0   \n",
       "3  Seattle Seahawks              10000         9         10      12   107.0   \n",
       "4  Seattle Seahawks              10000        10         10      10   147.0   \n",
       "\n",
       "   avg_price  min_price  max_price  day  month  year  is_quarter_end  \n",
       "0   7.333333        5.0       11.0    1      1  2021               0  \n",
       "1   9.181818        1.0       29.0    2      1  2021               0  \n",
       "2   6.571429        1.0       14.0    3      1  2021               0  \n",
       "3   8.916667        1.0       23.0    4      1  2021               0  \n",
       "4  14.700000        1.0       44.0    5      1  2021               0  "
      ]
     },
     "execution_count": 65,
     "metadata": {},
     "output_type": "execute_result"
    }
   ],
   "source": [
    "splitted = df['date'].str.split('-', expand=True)\n",
    "\n",
    "df['day'] = splitted[2].astype('int')\n",
    "df['month'] = splitted[1].astype('int')\n",
    "df['year'] = splitted[0].astype('int')\n",
    "\n",
    "df.head()\n"
   ]
  },
  {
   "cell_type": "code",
   "execution_count": 66,
   "id": "e0e36125",
   "metadata": {},
   "outputs": [
    {
     "data": {
      "text/html": [
       "<div>\n",
       "<style scoped>\n",
       "    .dataframe tbody tr th:only-of-type {\n",
       "        vertical-align: middle;\n",
       "    }\n",
       "\n",
       "    .dataframe tbody tr th {\n",
       "        vertical-align: top;\n",
       "    }\n",
       "\n",
       "    .dataframe thead th {\n",
       "        text-align: right;\n",
       "    }\n",
       "</style>\n",
       "<table border=\"1\" class=\"dataframe\">\n",
       "  <thead>\n",
       "    <tr style=\"text-align: right;\">\n",
       "      <th></th>\n",
       "      <th>date</th>\n",
       "      <th>play_type</th>\n",
       "      <th>moment_description</th>\n",
       "      <th>team</th>\n",
       "      <th>total_circulation</th>\n",
       "      <th>n_buyers</th>\n",
       "      <th>n_sellers</th>\n",
       "      <th>n_nfts</th>\n",
       "      <th>volume</th>\n",
       "      <th>avg_price</th>\n",
       "      <th>min_price</th>\n",
       "      <th>max_price</th>\n",
       "      <th>day</th>\n",
       "      <th>month</th>\n",
       "      <th>year</th>\n",
       "      <th>is_quarter_end</th>\n",
       "    </tr>\n",
       "  </thead>\n",
       "  <tbody>\n",
       "    <tr>\n",
       "      <th>0</th>\n",
       "      <td>2021-01-01</td>\n",
       "      <td>Pass</td>\n",
       "      <td>When Russell Wilson throws it up in a tight wi...</td>\n",
       "      <td>Seattle Seahawks</td>\n",
       "      <td>10000</td>\n",
       "      <td>3</td>\n",
       "      <td>2</td>\n",
       "      <td>3</td>\n",
       "      <td>22.0</td>\n",
       "      <td>7.333333</td>\n",
       "      <td>5.0</td>\n",
       "      <td>11.0</td>\n",
       "      <td>1</td>\n",
       "      <td>1</td>\n",
       "      <td>2021</td>\n",
       "      <td>0</td>\n",
       "    </tr>\n",
       "    <tr>\n",
       "      <th>1</th>\n",
       "      <td>2021-01-02</td>\n",
       "      <td>Pass</td>\n",
       "      <td>When Russell Wilson throws it up in a tight wi...</td>\n",
       "      <td>Seattle Seahawks</td>\n",
       "      <td>10000</td>\n",
       "      <td>6</td>\n",
       "      <td>7</td>\n",
       "      <td>11</td>\n",
       "      <td>101.0</td>\n",
       "      <td>9.181818</td>\n",
       "      <td>1.0</td>\n",
       "      <td>29.0</td>\n",
       "      <td>2</td>\n",
       "      <td>1</td>\n",
       "      <td>2021</td>\n",
       "      <td>0</td>\n",
       "    </tr>\n",
       "    <tr>\n",
       "      <th>2</th>\n",
       "      <td>2021-01-03</td>\n",
       "      <td>Pass</td>\n",
       "      <td>When Russell Wilson throws it up in a tight wi...</td>\n",
       "      <td>Seattle Seahawks</td>\n",
       "      <td>10000</td>\n",
       "      <td>4</td>\n",
       "      <td>7</td>\n",
       "      <td>7</td>\n",
       "      <td>46.0</td>\n",
       "      <td>6.571429</td>\n",
       "      <td>1.0</td>\n",
       "      <td>14.0</td>\n",
       "      <td>3</td>\n",
       "      <td>1</td>\n",
       "      <td>2021</td>\n",
       "      <td>0</td>\n",
       "    </tr>\n",
       "    <tr>\n",
       "      <th>3</th>\n",
       "      <td>2021-01-04</td>\n",
       "      <td>Pass</td>\n",
       "      <td>When Russell Wilson throws it up in a tight wi...</td>\n",
       "      <td>Seattle Seahawks</td>\n",
       "      <td>10000</td>\n",
       "      <td>9</td>\n",
       "      <td>10</td>\n",
       "      <td>12</td>\n",
       "      <td>107.0</td>\n",
       "      <td>8.916667</td>\n",
       "      <td>1.0</td>\n",
       "      <td>23.0</td>\n",
       "      <td>4</td>\n",
       "      <td>1</td>\n",
       "      <td>2021</td>\n",
       "      <td>0</td>\n",
       "    </tr>\n",
       "    <tr>\n",
       "      <th>4</th>\n",
       "      <td>2021-01-05</td>\n",
       "      <td>Pass</td>\n",
       "      <td>When Russell Wilson throws it up in a tight wi...</td>\n",
       "      <td>Seattle Seahawks</td>\n",
       "      <td>10000</td>\n",
       "      <td>10</td>\n",
       "      <td>10</td>\n",
       "      <td>10</td>\n",
       "      <td>147.0</td>\n",
       "      <td>14.700000</td>\n",
       "      <td>1.0</td>\n",
       "      <td>44.0</td>\n",
       "      <td>5</td>\n",
       "      <td>1</td>\n",
       "      <td>2021</td>\n",
       "      <td>0</td>\n",
       "    </tr>\n",
       "  </tbody>\n",
       "</table>\n",
       "</div>"
      ],
      "text/plain": [
       "         date play_type                                 moment_description  \\\n",
       "0  2021-01-01      Pass  When Russell Wilson throws it up in a tight wi...   \n",
       "1  2021-01-02      Pass  When Russell Wilson throws it up in a tight wi...   \n",
       "2  2021-01-03      Pass  When Russell Wilson throws it up in a tight wi...   \n",
       "3  2021-01-04      Pass  When Russell Wilson throws it up in a tight wi...   \n",
       "4  2021-01-05      Pass  When Russell Wilson throws it up in a tight wi...   \n",
       "\n",
       "               team  total_circulation  n_buyers  n_sellers  n_nfts  volume  \\\n",
       "0  Seattle Seahawks              10000         3          2       3    22.0   \n",
       "1  Seattle Seahawks              10000         6          7      11   101.0   \n",
       "2  Seattle Seahawks              10000         4          7       7    46.0   \n",
       "3  Seattle Seahawks              10000         9         10      12   107.0   \n",
       "4  Seattle Seahawks              10000        10         10      10   147.0   \n",
       "\n",
       "   avg_price  min_price  max_price  day  month  year  is_quarter_end  \n",
       "0   7.333333        5.0       11.0    1      1  2021               0  \n",
       "1   9.181818        1.0       29.0    2      1  2021               0  \n",
       "2   6.571429        1.0       14.0    3      1  2021               0  \n",
       "3   8.916667        1.0       23.0    4      1  2021               0  \n",
       "4  14.700000        1.0       44.0    5      1  2021               0  "
      ]
     },
     "execution_count": 66,
     "metadata": {},
     "output_type": "execute_result"
    }
   ],
   "source": [
    "df['is_quarter_end'] = np.where(df['month']%3==0,1,0)\n",
    "df.head()\n"
   ]
  },
  {
   "cell_type": "code",
   "execution_count": 67,
   "id": "b00126b9",
   "metadata": {},
   "outputs": [
    {
     "data": {
      "image/png": "[encoded data removed]",
      "text/plain": [
       "<Figure size 1440x720 with 1 Axes>"
      ]
     },
     "metadata": {
      "needs_background": "light"
     },
     "output_type": "display_data"
    },
    {
     "data": {
      "image/png": "[encoded data removed]",
      "text/plain": [
       "<Figure size 432x288 with 1 Axes>"
      ]
     },
     "metadata": {
      "needs_background": "light"
     },
     "output_type": "display_data"
    },
    {
     "data": {
      "image/png": "[encoded data removed]",
      "text/plain": [
       "<Figure size 432x288 with 1 Axes>"
      ]
     },
     "metadata": {
      "needs_background": "light"
     },
     "output_type": "display_data"
    },
    {
     "data": {
      "image/png": "[encoded data removed]",
      "text/plain": [
       "<Figure size 432x288 with 1 Axes>"
      ]
     },
     "metadata": {
      "needs_background": "light"
     },
     "output_type": "display_data"
    },
    {
     "data": {
      "image/png": "[encoded data removed]",
      "text/plain": [
       "<Figure size 432x288 with 1 Axes>"
      ]
     },
     "metadata": {
      "needs_background": "light"
     },
     "output_type": "display_data"
    },
    {
     "data": {
      "image/png": "[encoded data removed]",
      "text/plain": [
       "<Figure size 432x288 with 1 Axes>"
      ]
     },
     "metadata": {
      "needs_background": "light"
     },
     "output_type": "display_data"
    },
    {
     "data": {
      "image/png": "[encoded data removed]",
      "text/plain": [
       "<Figure size 432x288 with 1 Axes>"
      ]
     },
     "metadata": {
      "needs_background": "light"
     },
     "output_type": "display_data"
    }
   ],
   "source": [
    "data_grouped = df.groupby('month').mean()\n",
    "plt.subplots(figsize=(20,10))\n",
    "\n",
    "for i, col in enumerate(['n_buyers', 'n_sellers', 'n_nfts', 'volume', 'avg_price','min_price','max_price']):\n",
    "    data_grouped[col].plot.bar()\n",
    "    plt.show()\n"
   ]
  },
  {
   "cell_type": "markdown",
   "id": "6cfd8c20",
   "metadata": {},
   "source": [
    "Looking at this results, we can se that in the major of the cases, the highest values were obtained during 3rd and 9th month: March and September months, were more users were active, more volume was sold and the prices oscilated the most."
   ]
  },
  {
   "cell_type": "code",
   "execution_count": 68,
   "id": "544e629b",
   "metadata": {},
   "outputs": [
    {
     "data": {
      "text/html": [
       "<div>\n",
       "<style scoped>\n",
       "    .dataframe tbody tr th:only-of-type {\n",
       "        vertical-align: middle;\n",
       "    }\n",
       "\n",
       "    .dataframe tbody tr th {\n",
       "        vertical-align: top;\n",
       "    }\n",
       "\n",
       "    .dataframe thead th {\n",
       "        text-align: right;\n",
       "    }\n",
       "</style>\n",
       "<table border=\"1\" class=\"dataframe\">\n",
       "  <thead>\n",
       "    <tr style=\"text-align: right;\">\n",
       "      <th></th>\n",
       "      <th>total_circulation</th>\n",
       "      <th>n_buyers</th>\n",
       "      <th>n_sellers</th>\n",
       "      <th>n_nfts</th>\n",
       "      <th>volume</th>\n",
       "      <th>avg_price</th>\n",
       "      <th>min_price</th>\n",
       "      <th>max_price</th>\n",
       "      <th>day</th>\n",
       "      <th>month</th>\n",
       "      <th>year</th>\n",
       "    </tr>\n",
       "    <tr>\n",
       "      <th>is_quarter_end</th>\n",
       "      <th></th>\n",
       "      <th></th>\n",
       "      <th></th>\n",
       "      <th></th>\n",
       "      <th></th>\n",
       "      <th></th>\n",
       "      <th></th>\n",
       "      <th></th>\n",
       "      <th></th>\n",
       "      <th></th>\n",
       "      <th></th>\n",
       "    </tr>\n",
       "  </thead>\n",
       "  <tbody>\n",
       "    <tr>\n",
       "      <th>0</th>\n",
       "      <td>5696.929678</td>\n",
       "      <td>15.798570</td>\n",
       "      <td>15.680572</td>\n",
       "      <td>18.147795</td>\n",
       "      <td>2324.250426</td>\n",
       "      <td>160.914741</td>\n",
       "      <td>75.117417</td>\n",
       "      <td>540.182467</td>\n",
       "      <td>15.605483</td>\n",
       "      <td>5.450536</td>\n",
       "      <td>2021.494636</td>\n",
       "    </tr>\n",
       "    <tr>\n",
       "      <th>1</th>\n",
       "      <td>5707.455471</td>\n",
       "      <td>46.618321</td>\n",
       "      <td>23.781170</td>\n",
       "      <td>50.511450</td>\n",
       "      <td>4867.269364</td>\n",
       "      <td>251.034014</td>\n",
       "      <td>133.680728</td>\n",
       "      <td>732.718830</td>\n",
       "      <td>15.821883</td>\n",
       "      <td>6.435115</td>\n",
       "      <td>2021.488550</td>\n",
       "    </tr>\n",
       "  </tbody>\n",
       "</table>\n",
       "</div>"
      ],
      "text/plain": [
       "                total_circulation   n_buyers  n_sellers     n_nfts  \\\n",
       "is_quarter_end                                                       \n",
       "0                     5696.929678  15.798570  15.680572  18.147795   \n",
       "1                     5707.455471  46.618321  23.781170  50.511450   \n",
       "\n",
       "                     volume   avg_price   min_price   max_price        day  \\\n",
       "is_quarter_end                                                               \n",
       "0               2324.250426  160.914741   75.117417  540.182467  15.605483   \n",
       "1               4867.269364  251.034014  133.680728  732.718830  15.821883   \n",
       "\n",
       "                   month         year  \n",
       "is_quarter_end                         \n",
       "0               5.450536  2021.494636  \n",
       "1               6.435115  2021.488550  "
      ]
     },
     "execution_count": 68,
     "metadata": {},
     "output_type": "execute_result"
    }
   ],
   "source": [
    "df.groupby('is_quarter_end').mean()\n"
   ]
  },
  {
   "cell_type": "code",
   "execution_count": 96,
   "id": "284d4b23",
   "metadata": {},
   "outputs": [],
   "source": [
    "df['avg_price-min_price'] = df['avg_price'] - df['min_price']\n",
    "df['min_price-max_price'] = df['min_price'] - df['max_price']\n",
    "df['target'] = np.where(df['min_price'].shift(-1) < df['min_price'], 1, 0)\n"
   ]
  },
  {
   "cell_type": "markdown",
   "id": "2cdd7ed0",
   "metadata": {},
   "source": [
    "Above we have added some more columns which will help in the training of our model. We have added the target feature which is a signal whether to buy or not we will train our model to predict this only. But before proceeding let’s check whether the target is balanced or not using a pie chart."
   ]
  },
  {
   "cell_type": "code",
   "execution_count": 97,
   "id": "2cc357e7",
   "metadata": {},
   "outputs": [
    {
     "data": {
      "image/png": "[encoded data removed]",
      "text/plain": [
       "<Figure size 432x288 with 1 Axes>"
      ]
     },
     "metadata": {},
     "output_type": "display_data"
    }
   ],
   "source": [
    "plt.pie(df['target'].value_counts().values,\n",
    "        labels=[0, 1], autopct='%1.1f%%')\n",
    "plt.show()\n"
   ]
  },
  {
   "cell_type": "code",
   "execution_count": 73,
   "id": "2e969d1e",
   "metadata": {},
   "outputs": [
    {
     "data": {
      "image/png": "[encoded data removed]",
      "text/plain": [
       "<Figure size 720x720 with 1 Axes>"
      ]
     },
     "metadata": {
      "needs_background": "light"
     },
     "output_type": "display_data"
    }
   ],
   "source": [
    "plt.figure(figsize=(10, 10))\n",
    "\n",
    "# As our concern is with the highly\n",
    "# correlated features only so, we will visualize\n",
    "# our heatmap as per that criteria only.\n",
    "sb.heatmap(df.corr() > 0.9, annot=True, cbar=False)\n",
    "plt.show()\n"
   ]
  },
  {
   "cell_type": "markdown",
   "id": "078074d5",
   "metadata": {},
   "source": [
    "When we add features to our dataset we have to ensure that there are no highly correlated features as they do not help in the learning process of the algorithm.\n",
    "\n",
    "From the above heatmap, we can say that there is a high correlation between number of NFTs sold and number of buyers that is pretty obvious and the added features are not highly correlated with each other or previously provided features which means that we are good to go and build our model.\n",
    "\n"
   ]
  },
  {
   "cell_type": "code",
   "execution_count": 74,
   "id": "2d252b8c",
   "metadata": {},
   "outputs": [
    {
     "name": "stdout",
     "output_type": "stream",
     "text": [
      "(1108, 3) (124, 3)\n"
     ]
    }
   ],
   "source": [
    "features = df[['avg_price-min_price', 'min_price-max_price', 'is_quarter_end']]\n",
    "target = df['target']\n",
    "\n",
    "scaler = StandardScaler()\n",
    "features = scaler.fit_transform(features)\n",
    "\n",
    "X_train, X_valid, Y_train, Y_valid = train_test_split(\n",
    "    features, target, test_size=0.1, random_state=2022)\n",
    "print(X_train.shape, X_valid.shape)\n"
   ]
  },
  {
   "cell_type": "markdown",
   "id": "11c0e505",
   "metadata": {},
   "source": [
    "After selecting the features to train the model on we should normalize the data because normalized data leads to stable and fast training of the model. After that whole data has been split into two parts with a 90/10 ratio so, that we can evaluate the performance of our model on unseen data.\n",
    "\n",
    "For the evaluation metric, we will use the ROC-AUC curve but why this is because instead of predicting the hard probability that is 0 or 1 we would like it to predict soft probabilities that are continuous values between 0 to 1. And with soft probabilities, the ROC-AUC curve is generally used to measure the accuracy of the predictions."
   ]
  },
  {
   "cell_type": "code",
   "execution_count": 102,
   "id": "36b96b46",
   "metadata": {},
   "outputs": [
    {
     "name": "stdout",
     "output_type": "stream",
     "text": [
      "XGBClassifier(base_score=0.5, booster='gbtree', callbacks=None,\n",
      "              colsample_bylevel=1, colsample_bynode=1, colsample_bytree=1,\n",
      "              early_stopping_rounds=None, enable_categorical=False,\n",
      "              eval_metric=None, gamma=0, gpu_id=-1, grow_policy='depthwise',\n",
      "              importance_type=None, interaction_constraints='',\n",
      "              learning_rate=0.300000012, max_bin=256, max_cat_to_onehot=4,\n",
      "              max_delta_step=0, max_depth=6, max_leaves=0, min_child_weight=1,\n",
      "              missing=nan, monotone_constraints='()', n_estimators=100,\n",
      "              n_jobs=0, num_parallel_tree=1, predictor='auto', random_state=0,\n",
      "              reg_alpha=0, reg_lambda=1, ...) : \n",
      "Training Accuracy :  0.9447094429806948\n",
      "Validation Accuracy :  0.6055381400208987\n",
      "\n"
     ]
    }
   ],
   "source": [
    "models = [LogisticRegression(), SVC(\n",
    "kernel='poly', probability=True), XGBClassifier()\n",
    "         ]\n",
    "\n",
    "for i in range(3):\n",
    "    models[i].fit(X_train, Y_train)\n",
    "\n",
    "print(f'{models[i]} : ')\n",
    "print('Training Accuracy : ', metrics.roc_auc_score(\n",
    "    Y_train, models[i].predict_proba(X_train)[:,1]))\n",
    "print('Validation Accuracy : ', metrics.roc_auc_score(\n",
    "    Y_valid, models[i].predict_proba(X_valid)[:,1]))\n",
    "print()\n"
   ]
  },
  {
   "cell_type": "markdown",
   "id": "80b8f46a",
   "metadata": {},
   "source": [
    "Among the three models, we have trained XGBClassifier has the highest performance but it is pruned to overfitting as the difference between the training and the validation accuracy is too high. But in the case of the Logistic Regression, this is not the case.\n",
    "\n",
    "Now let’s plot a confusion matrix for the validation data."
   ]
  },
  {
   "cell_type": "code",
   "execution_count": 78,
   "id": "62494646",
   "metadata": {},
   "outputs": [
    {
     "data": {
      "image/png": "[encoded data removed]",
      "text/plain": [
       "<Figure size 432x288 with 2 Axes>"
      ]
     },
     "metadata": {
      "needs_background": "light"
     },
     "output_type": "display_data"
    }
   ],
   "source": [
    "metrics.plot_confusion_matrix(models[0], X_valid, Y_valid)\n",
    "plt.show()\n"
   ]
  },
  {
   "cell_type": "markdown",
   "id": "a19a12e9",
   "metadata": {},
   "source": [
    "We can observe that the accuracy achieved by our ML model is better than simply guessing with a probability of 50%. This is good because it seems our model are working well. However, it should be improved by adding other features or having more data in order to obtain better outcomes and increase this probability."
   ]
  },
  {
   "cell_type": "markdown",
   "id": "83438834",
   "metadata": {},
   "source": [
    "#### Cooper Kupp low price analysis"
   ]
  },
  {
   "cell_type": "markdown",
   "id": "d2601b15",
   "metadata": {},
   "source": [
    "In this second case, we will be trying to assess if the Cooper Kupp low price are gonna be lower or no on the next consecutive date. \n",
    "\n",
    "To do so, we will take into account the following metrics: play_type, moment_description, team, total_circulation, n_buyers, n_sellers, n_nfts, volume, avg_price, min_price, max_price, last_min_price.\n",
    "\n",
    "As an outcome, we will have if the lowest price is a lower_low or not. Then, if the current lower price is a lower low, we will consider 1 as output, otherwise, 0."
   ]
  },
  {
   "cell_type": "code",
   "execution_count": 108,
   "id": "d08bd147",
   "metadata": {},
   "outputs": [],
   "source": [
    "sql = f\"\"\"SELECT\n",
    "block_timestamp::date as date,\n",
    "  play_type,\n",
    "  moment_description,\n",
    "  team,\n",
    "  total_circulation,\n",
    "count(distinct buyer) as n_buyers,\n",
    "count(distinct seller) as n_sellers,\n",
    "count(distinct x.nft_id) as n_nfts,\n",
    "sum(price) as volume,\n",
    "avg(price) as avg_price,\n",
    "min(price) as min_price,\n",
    "max(price) as max_price,\n",
    "LAG(min_price,1) IGNORE NULLS OVER (ORDER BY date) as last_min_price,\n",
    "case when min_price<last_min_price then 1 else 0 end as lower_low\n",
    "from \n",
    "  flow.core.ez_nft_sales x\n",
    "  left join flow.core.dim_allday_metadata y on x.nft_id = y.nft_id \n",
    "where player='Cooper Kupp'\n",
    "group by 1,2,3,4,5 order by 1 asc \n",
    "\"\"\""
   ]
  },
  {
   "cell_type": "code",
   "execution_count": 109,
   "id": "45b04441",
   "metadata": {},
   "outputs": [
    {
     "name": "stdout",
     "output_type": "stream",
     "text": [
      "<class 'pandas.core.frame.DataFrame'>\n",
      "RangeIndex: 2515 entries, 0 to 2514\n",
      "Data columns (total 14 columns):\n",
      " #   Column              Non-Null Count  Dtype  \n",
      "---  ------              --------------  -----  \n",
      " 0   date                2515 non-null   object \n",
      " 1   play_type           2515 non-null   object \n",
      " 2   moment_description  2515 non-null   object \n",
      " 3   team                2515 non-null   object \n",
      " 4   total_circulation   2515 non-null   int64  \n",
      " 5   n_buyers            2515 non-null   int64  \n",
      " 6   n_sellers           2515 non-null   int64  \n",
      " 7   n_nfts              2515 non-null   int64  \n",
      " 8   volume              2515 non-null   float64\n",
      " 9   avg_price           2515 non-null   float64\n",
      " 10  min_price           2515 non-null   float64\n",
      " 11  max_price           2515 non-null   float64\n",
      " 12  last_min_price      2514 non-null   float64\n",
      " 13  lower_low           2515 non-null   int64  \n",
      "dtypes: float64(5), int64(5), object(4)\n",
      "memory usage: 275.2+ KB\n"
     ]
    }
   ],
   "source": [
    "results = sdk.query(sql)\n",
    "df = pd.DataFrame(results.records)\n",
    "df.info()"
   ]
  },
  {
   "cell_type": "code",
   "execution_count": 110,
   "id": "57c7769f",
   "metadata": {},
   "outputs": [
    {
     "data": {
      "text/html": [
       "<div>\n",
       "<style scoped>\n",
       "    .dataframe tbody tr th:only-of-type {\n",
       "        vertical-align: middle;\n",
       "    }\n",
       "\n",
       "    .dataframe tbody tr th {\n",
       "        vertical-align: top;\n",
       "    }\n",
       "\n",
       "    .dataframe thead th {\n",
       "        text-align: right;\n",
       "    }\n",
       "</style>\n",
       "<table border=\"1\" class=\"dataframe\">\n",
       "  <thead>\n",
       "    <tr style=\"text-align: right;\">\n",
       "      <th></th>\n",
       "      <th>date</th>\n",
       "      <th>play_type</th>\n",
       "      <th>moment_description</th>\n",
       "      <th>team</th>\n",
       "      <th>total_circulation</th>\n",
       "      <th>n_buyers</th>\n",
       "      <th>n_sellers</th>\n",
       "      <th>n_nfts</th>\n",
       "      <th>volume</th>\n",
       "      <th>avg_price</th>\n",
       "      <th>min_price</th>\n",
       "      <th>max_price</th>\n",
       "      <th>last_min_price</th>\n",
       "      <th>lower_low</th>\n",
       "    </tr>\n",
       "  </thead>\n",
       "  <tbody>\n",
       "    <tr>\n",
       "      <th>0</th>\n",
       "      <td>2020-10-15</td>\n",
       "      <td>Player Melt</td>\n",
       "      <td>Behind him. In front of him. Low. High. Wherev...</td>\n",
       "      <td>Los Angeles Rams</td>\n",
       "      <td>1199</td>\n",
       "      <td>1</td>\n",
       "      <td>1</td>\n",
       "      <td>1</td>\n",
       "      <td>7.0</td>\n",
       "      <td>7.0</td>\n",
       "      <td>7.0</td>\n",
       "      <td>7.0</td>\n",
       "      <td>NaN</td>\n",
       "      <td>0</td>\n",
       "    </tr>\n",
       "    <tr>\n",
       "      <th>1</th>\n",
       "      <td>2020-10-21</td>\n",
       "      <td>Player Melt</td>\n",
       "      <td>Behind him. In front of him. Low. High. Wherev...</td>\n",
       "      <td>Los Angeles Rams</td>\n",
       "      <td>1199</td>\n",
       "      <td>1</td>\n",
       "      <td>1</td>\n",
       "      <td>1</td>\n",
       "      <td>1.0</td>\n",
       "      <td>1.0</td>\n",
       "      <td>1.0</td>\n",
       "      <td>1.0</td>\n",
       "      <td>7.0</td>\n",
       "      <td>1</td>\n",
       "    </tr>\n",
       "    <tr>\n",
       "      <th>2</th>\n",
       "      <td>2020-10-22</td>\n",
       "      <td>Player Melt</td>\n",
       "      <td>Behind him. In front of him. Low. High. Wherev...</td>\n",
       "      <td>Los Angeles Rams</td>\n",
       "      <td>1199</td>\n",
       "      <td>2</td>\n",
       "      <td>2</td>\n",
       "      <td>3</td>\n",
       "      <td>27.0</td>\n",
       "      <td>9.0</td>\n",
       "      <td>9.0</td>\n",
       "      <td>9.0</td>\n",
       "      <td>1.0</td>\n",
       "      <td>0</td>\n",
       "    </tr>\n",
       "    <tr>\n",
       "      <th>3</th>\n",
       "      <td>2020-10-23</td>\n",
       "      <td>Player Melt</td>\n",
       "      <td>Behind him. In front of him. Low. High. Wherev...</td>\n",
       "      <td>Los Angeles Rams</td>\n",
       "      <td>1199</td>\n",
       "      <td>2</td>\n",
       "      <td>2</td>\n",
       "      <td>2</td>\n",
       "      <td>9.0</td>\n",
       "      <td>4.5</td>\n",
       "      <td>1.0</td>\n",
       "      <td>8.0</td>\n",
       "      <td>9.0</td>\n",
       "      <td>1</td>\n",
       "    </tr>\n",
       "    <tr>\n",
       "      <th>4</th>\n",
       "      <td>2020-10-24</td>\n",
       "      <td>Player Melt</td>\n",
       "      <td>Behind him. In front of him. Low. High. Wherev...</td>\n",
       "      <td>Los Angeles Rams</td>\n",
       "      <td>1199</td>\n",
       "      <td>2</td>\n",
       "      <td>2</td>\n",
       "      <td>2</td>\n",
       "      <td>14.0</td>\n",
       "      <td>7.0</td>\n",
       "      <td>6.0</td>\n",
       "      <td>8.0</td>\n",
       "      <td>1.0</td>\n",
       "      <td>0</td>\n",
       "    </tr>\n",
       "  </tbody>\n",
       "</table>\n",
       "</div>"
      ],
      "text/plain": [
       "         date    play_type                                 moment_description  \\\n",
       "0  2020-10-15  Player Melt  Behind him. In front of him. Low. High. Wherev...   \n",
       "1  2020-10-21  Player Melt  Behind him. In front of him. Low. High. Wherev...   \n",
       "2  2020-10-22  Player Melt  Behind him. In front of him. Low. High. Wherev...   \n",
       "3  2020-10-23  Player Melt  Behind him. In front of him. Low. High. Wherev...   \n",
       "4  2020-10-24  Player Melt  Behind him. In front of him. Low. High. Wherev...   \n",
       "\n",
       "               team  total_circulation  n_buyers  n_sellers  n_nfts  volume  \\\n",
       "0  Los Angeles Rams               1199         1          1       1     7.0   \n",
       "1  Los Angeles Rams               1199         1          1       1     1.0   \n",
       "2  Los Angeles Rams               1199         2          2       3    27.0   \n",
       "3  Los Angeles Rams               1199         2          2       2     9.0   \n",
       "4  Los Angeles Rams               1199         2          2       2    14.0   \n",
       "\n",
       "   avg_price  min_price  max_price  last_min_price  lower_low  \n",
       "0        7.0        7.0        7.0             NaN          0  \n",
       "1        1.0        1.0        1.0             7.0          1  \n",
       "2        9.0        9.0        9.0             1.0          0  \n",
       "3        4.5        1.0        8.0             9.0          1  \n",
       "4        7.0        6.0        8.0             1.0          0  "
      ]
     },
     "execution_count": 110,
     "metadata": {},
     "output_type": "execute_result"
    }
   ],
   "source": [
    "df.head()"
   ]
  },
  {
   "cell_type": "markdown",
   "id": "e26d429d",
   "metadata": {},
   "source": [
    "Now, we are gonna construct our model by determining our main features as well as our X_train, X_test, y_train, y_test. To do so we are gonna use the sklearn library from Python."
   ]
  },
  {
   "cell_type": "code",
   "execution_count": 135,
   "id": "55df2d33",
   "metadata": {},
   "outputs": [],
   "source": [
    "# all features\n",
    "\n",
    "from sklearn.preprocessing import StandardScaler\n",
    "features = [\"play_type\", \"moment_description\", \"total_circulation\", \"n_buyers\", \"n_sellers\", \"n_nfts\", \"volume\", \"avg_price\", \"min_price\", \"max_price\"]\n",
    "\n",
    "X = df.iloc[1:, 4:-1].values \n",
    "\n",
    "y = df.iloc[1:, 13].values\n",
    "\n",
    "from sklearn.model_selection import train_test_split \n",
    "\n",
    "X_train, X_test, y_train, y_test = train_test_split(X, y, test_size=0.2, random_state=0)  ## splitting the data to get the test "
   ]
  },
  {
   "cell_type": "markdown",
   "id": "394d9264",
   "metadata": {},
   "source": [
    "For our model, we will use different sklearn metrics such as the mean squared error, the make scorer, etc. and we will compute the results using not only the matthews correlation coefficient but also the f1_score to track which fit better with our model."
   ]
  },
  {
   "cell_type": "code",
   "execution_count": 137,
   "id": "512530b2",
   "metadata": {
    "scrolled": true
   },
   "outputs": [
    {
     "name": "stdout",
     "output_type": "stream",
     "text": [
      "Train Classification report of SVM:               precision    recall  f1-score   support\n",
      "\n",
      "           0       0.89      0.93      0.91      1076\n",
      "           1       0.92      0.87      0.89       935\n",
      "\n",
      "    accuracy                           0.90      2011\n",
      "   macro avg       0.90      0.90      0.90      2011\n",
      "weighted avg       0.90      0.90      0.90      2011\n",
      "\n",
      "Train Confusion Matrix of SVM: [1006   70  125  810]\n",
      "Train Sensitivity of SVM: 0.87\n",
      "Train Specificity of SVM: 0.93\n",
      "Train MCC of SVM: 0.81\n",
      "Test Classification report of SVM:               precision    recall  f1-score   support\n",
      "\n",
      "           0       0.86      0.92      0.89       253\n",
      "           1       0.92      0.85      0.88       250\n",
      "\n",
      "    accuracy                           0.89       503\n",
      "   macro avg       0.89      0.89      0.89       503\n",
      "weighted avg       0.89      0.89      0.89       503\n",
      "\n",
      "Test Confusion Matrix of SVM: [234  19  37 213]\n",
      "Test Sensitivity of SVM: 0.85\n",
      "Test Specificity of SVM: 0.92\n",
      "Test MCC of SVM: 0.78\n"
     ]
    }
   ],
   "source": [
    "from sklearn.model_selection import GridSearchCV\n",
    "from sklearn.preprocessing import StandardScaler\n",
    "sc = StandardScaler()\n",
    "from sklearn.metrics import mean_squared_error, make_scorer, classification_report, confusion_matrix, matthews_corrcoef, f1_score\n",
    "from sklearn.svm import SVC\n",
    "import math\n",
    "#from sklearn.ensemble import AdaBoostClassifier\n",
    "#from imblearn.metrics import geometric_mean_score\n",
    "\n",
    "#defining a custom metric \n",
    "import keras.backend as K\n",
    "def matthews_correlation(y_true, y_pred):\n",
    "    #Matthews correlation coefficient\n",
    "    y_pred_pos = K.round(K.clip(y_pred, 0, 1))\n",
    "    y_pred_neg = 1 - y_pred_pos\n",
    "    y_pos = K.round(K.clip(y_true, 0, 1))\n",
    "    y_neg = 1 - y_pos\n",
    "    tp = K.sum(y_pos * y_pred_pos)\n",
    "    tn = K.sum(y_neg * y_pred_neg)\n",
    "    fp = K.sum(y_neg * y_pred_pos)\n",
    "    fn = K.sum(y_pos * y_pred_neg)\n",
    "    numerator = (tp * tn - fp * fn)\n",
    "    denominator = K.sqrt((tp + fp) * (tp + fn) * (tn + fp) * (tn + fn))\n",
    "    return numerator / (denominator + K.epsilon()) \n",
    "\n",
    "\n",
    "\n",
    "threshold70=0.5\n",
    "custom_scorer=make_scorer(matthews_corrcoef)\n",
    "custom_scorer_2=make_scorer(f1_score)\n",
    "#custom_scorer_3=make_scorer(geometric_mean_score)\n",
    "\n",
    "#X_train, X_test, y_train, y_test = train_test_split(X, y, test_size=0.2, random_state=0)  ## splitting the data to get the test \n",
    "\n",
    "y_train=y_train\n",
    "y_test=y_test\n",
    "X_train=X_train\n",
    "X_test=X_test\n",
    "X_train = sc.fit_transform(X_train)\n",
    "X_test = sc.transform(X_test)\n",
    "\n",
    "'''\n",
    "#modify input_dim depending on number of features used\n",
    "# Initialising the ANN\n",
    "from keras.models import Sequential\n",
    "from keras.layers import Dense,Dropout, LSTM\n",
    "ann_70 = Sequential()\n",
    "# Adding the input layer and the first hidden layer\n",
    "ann_70.add(Dense(25, init = 'uniform', activation = 'relu', input_dim = 10)) #change input_dim depending on features' n\n",
    "#ann_70.add(Dropout(0.5))\n",
    "# Adding the output layer\n",
    "ann_70.add(Dense(1, init = 'glorot_uniform', activation = 'relu'))\n",
    "# Compiling the ANN\n",
    "ann_70.compile(optimizer = 'adam', loss = 'mean_squared_error'  , metrics = ['accuracy',matthews_correlation])#'binary_crossentropy'\n",
    "#fit method\n",
    "#class_weight={0:1.,1:10}\n",
    "ann_70.fit(X_train, y_train, batch_size = 10, epochs = 100,class_weight='balanced',verbose=0)\n",
    "train_pred=ann_70.predict(X_train)\n",
    "train_pred = (train_pred > threshold70)\n",
    "y_pred = ann_70.predict(X_test)\n",
    "y_pred = (y_pred > threshold70)\n",
    "'''\n",
    "\n",
    "\n",
    "\n",
    "# Initialising the SVM\n",
    "parameter_dict = {'gamma':[0.1,0.01,0.001], 'C':[1,10,100]}\n",
    "classifier = SVC(kernel='rbf',class_weight='balanced', probability=True,random_state=0)\n",
    "svm70=GridSearchCV(classifier,cv=5,param_grid=parameter_dict,scoring=custom_scorer)\n",
    "svm70.fit(X_train,y_train)\n",
    "train_pred=svm70.best_estimator_.predict(X_train)\n",
    "y_pred=svm70.best_estimator_.predict(X_test)\n",
    "y_score = classifier.fit(X_train, y_train).decision_function(X_test)\n",
    "\n",
    "\n",
    "'''\n",
    "#Multinomial Naive Bayes\n",
    "from sklearn.naive_bayes import GaussianNB, MultinomialNB\n",
    "y_train=x['outcome']\n",
    "y_test=x_t['outcome']\n",
    "X_train=x[features]\n",
    "X_test=x_t[features]\n",
    "X_train['gROC']=abs(X_train['gROC'])\n",
    "X_test['gROC']=abs(X_test['gROC'])\n",
    "parameter_dict = {'alpha':[0.1,0.5, 1, 2, 6], 'fit_prior':[True, False]}\n",
    "gnb70 = MultinomialNB()\n",
    "gnb70=GridSearchCV(gnb70, param_grid=parameter_dict, scoring=custom_scorer_3)\n",
    "gnb70 = gnb70.fit(X_train,y_train)\n",
    "train_pred = gnb70.predict(X_train)\n",
    "y_pred = gnb70.predict(X_test)\n",
    "'''\n",
    "\n",
    "'''\n",
    "#adaboost sweep the parameter N_estimators manualy\n",
    "#Adaboost \n",
    "from sklearn.tree import DecisionTreeClassifier\n",
    "from sklearn.ensemble import AdaBoostClassifier\n",
    "parameter_dict = {\"base_estimator__criterion\" : [\"gini\", \"entropy\"],\n",
    "              \"base_estimator__splitter\" :   [\"best\", \"random\"],\n",
    "              \"n_estimators\": [5, 10, 20, 30, 50]\n",
    "             }\n",
    "DTC = DecisionTreeClassifier(random_state = 11, max_features = \"auto\", class_weight = \"balanced\",max_depth = None)\n",
    "ada = AdaBoostClassifier(base_estimator = DTC)\n",
    "ada70 = GridSearchCV(ada, param_grid=parameter_dict, scoring = 'roc_auc')\n",
    "ada70 = ada70.fit(X_train,y_train)\n",
    "train_pred = ada70.predict(X_train)\n",
    "y_pred = ada70.predict(X_test)\n",
    "'''\n",
    "\n",
    "'''\n",
    "#adaboost sweep the parameter N_estimators manualy\n",
    "#Adaboost \n",
    "ada = AdaBoostClassifier(n_estimators=50)\n",
    "ada70=ada.fit(X_train,y_train)\n",
    "train_pred = ada70.predict(X_train)\n",
    "y_pred = ada70.predict(X_test)\n",
    "'''\n",
    "\n",
    "'''\n",
    "# TODO: Initialize the classifier\n",
    "clf = AdaBoostClassifier(random_state=0)\n",
    "\n",
    "# TODO: Create the parameters list you wish to tune\n",
    "parameters = {'n_estimators':[50,100,200,300],'learning_rate':[1.0,2.0,4.0]}\n",
    "\n",
    "# TODO: Make an fbeta_score scoring object\n",
    "scorer2 = make_scorer(f1_score)\n",
    "\n",
    "\n",
    "# TODO: Perform grid search on the classifier using 'scorer' as the scoring method\n",
    "ada = GridSearchCV(clf,parameters,scoring=custom_scorer_3)\n",
    "\n",
    "# TODO: Fit the grid search object to the training data and find the optimal parameters\n",
    "ada = ada.fit(X_train,y_train)\n",
    "train_pred = ada.predict(X_train)\n",
    "y_pred = ada.predict(X_test)\n",
    "'''\n",
    "\n",
    "'''\n",
    "#Initializing LDA\n",
    "from sklearn.discriminant_analysis import LinearDiscriminantAnalysis as LDA\n",
    "parameter_dict = {'n_components': [5, 10, 15, 20, 25, 30], 'tol': [.1, .01, .001, .0001, .00001]}\n",
    "lda = LDA()\n",
    "model = GridSearchCV(lda, param_grid=parameter_dict)\n",
    "#model = LDA(n_components=11)\n",
    "X_lda = model.fit(X_train, y_train)\n",
    "train_pred=X_lda.predict(X_train)\n",
    "y_pred=X_lda.predict(X_test)\n",
    "'''\n",
    "\n",
    "\n",
    "\n",
    "#Evaluating training performance\n",
    "\n",
    "################################################################\n",
    "tn, fp, fn, tp = confusion_matrix(y_train, train_pred).ravel()\n",
    "mcc_train_70=round(matthews_corrcoef(y_train, train_pred),2)\n",
    "sp_train_70=round(tn/(tn+fp),2)\n",
    "se_train_70=round(tp/(tp+fn),2)\n",
    "\n",
    "print(\"Train Classification report of SVM:\",classification_report(y_train,train_pred))\n",
    "print('Train Confusion Matrix of SVM:',confusion_matrix(y_train, train_pred).ravel())\n",
    "print('Train Sensitivity of SVM:',se_train_70)\n",
    "print('Train Specificity of SVM:', sp_train_70)\n",
    "print('Train MCC of SVM:', mcc_train_70)\n",
    "\n",
    "# Part 3 - Making the predictions and evaluating the model\n",
    "\n",
    "# Making the Confusion Matrix\n",
    "tn, fp, fn, tp = confusion_matrix(y_test, y_pred).ravel()\n",
    "mcc_test_70=round(matthews_corrcoef(y_test, y_pred),2)\n",
    "sp_test_70=round(tn/(tn+fp),2)\n",
    "se_test_70=round(tp/(tp+fn),2)\n",
    "\n",
    "print(\"Test Classification report of SVM:\",classification_report(y_test,y_pred))\n",
    "print('Test Confusion Matrix of SVM:',confusion_matrix(y_test, y_pred).ravel())\n",
    "print('Test Sensitivity of SVM:',se_test_70)\n",
    "print('Test Specificity of SVM:', sp_test_70)\n",
    "print('Test MCC of SVM:', mcc_test_70)\n"
   ]
  },
  {
   "cell_type": "markdown",
   "id": "46aa25c7",
   "metadata": {},
   "source": [
    "Our ML technique that adapts better the model is the Support Vector Machine (SVM) which is one that plays better for price forecast so makes sense.\n",
    "\n",
    "As you can see, we have considered different parameters. The best result have been obtained with the first parameters: gamma=0.1 and C=1.\n",
    "\n",
    "Our classifier for the SVM has used a RBF kernel with a balanced weight.\n",
    "\n",
    "**The most important thing is that our model has a specificity of 0.93. So its the same to say that our model has the ability to say that Cooper Kupp won't have a lower low the next day. Besides, the sensitivity is not low at all, it has a value of 0.87. So, the capacity of our model to detect that some day Cooper Kupp will reach a lower low is higher as well. In fact, our Matthews Correlation Score (MCC) is almost 0.8!**"
   ]
  },
  {
   "cell_type": "code",
   "execution_count": 139,
   "id": "c246855f",
   "metadata": {},
   "outputs": [
    {
     "data": {
      "image/png": "[encoded data removed]",
      "text/plain": [
       "<Figure size 432x288 with 1 Axes>"
      ]
     },
     "metadata": {},
     "output_type": "display_data"
    }
   ],
   "source": [
    "from sklearn.metrics import roc_curve, auc\n",
    "# Compute ROC curve and ROC area for each class\n",
    "n_classes=len(y_train)\n",
    "fpr, tpr, _ = roc_curve(y_test, y_score)\n",
    "roc_auc = auc(fpr, tpr)\n",
    "\n",
    "\n",
    "# Plot of a ROC curve for a specific class\n",
    "plt.figure()\n",
    "plt.plot(fpr, tpr, label='ROC curve (area = %0.2f)' % roc_auc)\n",
    "plt.plot([0, 1], [0, 1], 'k--')\n",
    "plt.xlim([0.0, 1.0])\n",
    "plt.ylim([0.0, 1.05])\n",
    "plt.xlabel('False Positive Rate')\n",
    "plt.ylabel('True Positive Rate')\n",
    "plt.title('Cooper Kupp lower price Receiver operating characteristic')\n",
    "plt.legend(loc=\"lower right\")\n",
    "plt.show()"
   ]
  },
  {
   "cell_type": "markdown",
   "id": "20d6929e",
   "metadata": {},
   "source": [
    "To finish our analysis, I also plotted the Receiver operating characteristic of our model. As we can see, it has an area of 0.88, very close to 0.9, which is very positive for the validation of our model. This way, we can be sure that our target is very accurate and could even be used for other players."
   ]
  },
  {
   "cell_type": "code",
   "execution_count": null,
   "id": "bbb9d0ab",
   "metadata": {},
   "outputs": [],
   "source": []
  }
 ],
 "metadata": {
  "kernelspec": {
   "display_name": "Python 3 (ipykernel)",
   "language": "python",
   "name": "python3"
  },
  "language_info": {
   "codemirror_mode": {
    "name": "ipython",
    "version": 3
   },
   "file_extension": ".py",
   "mimetype": "text/x-python",
   "name": "python",
   "nbconvert_exporter": "python",
   "pygments_lexer": "ipython3",
   "version": "3.9.7"
  }
 },
 "nbformat": 4,
 "nbformat_minor": 5
}
